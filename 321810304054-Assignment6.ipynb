{
 "cells": [
  {
   "cell_type": "code",
   "execution_count": 29,
   "metadata": {},
   "outputs": [
    {
     "name": "stdout",
     "output_type": "stream",
     "text": [
      "Enter your number :5\n",
      "0\n",
      "1\n",
      "1\n",
      "2\n",
      "3\n"
     ]
    }
   ],
   "source": [
    "def fib(n):\n",
    "    a=0\n",
    "    b=1\n",
    "    if(n==1):\n",
    "        print(a)\n",
    "    else:   \n",
    "        print(a)\n",
    "        print(b)\n",
    "        for i in range(2,n):\n",
    "            c=a+b\n",
    "            a=b\n",
    "            b=c\n",
    "            print(c)\n",
    "\n",
    "fib(int(input(\"Enter your number :\")))"
   ]
  },
  {
   "cell_type": "code",
   "execution_count": 51,
   "metadata": {},
   "outputs": [
    {
     "name": "stdout",
     "output_type": "stream",
     "text": [
      "7 * 1 = 7\n",
      "7 * 2 = 14\n",
      "7 * 3 = 21\n",
      "7 * 4 = 28\n",
      "7 * 5 = 35\n",
      "7 * 6 = 42\n",
      "7 * 7 = 49\n",
      "7 * 8 = 56\n",
      "7 * 9 = 63\n",
      "7 * 10 = 70\n"
     ]
    }
   ],
   "source": [
    "def multi(n):\n",
    "    for i in range(1,11):\n",
    "        print(n,'*',i,'=',n*i)\n",
    "multi(7)        \n",
    "\n",
    "\n",
    "\n",
    "\n",
    "\n",
    "\n",
    "\n"
   ]
  },
  {
   "cell_type": "code",
   "execution_count": 64,
   "metadata": {},
   "outputs": [
    {
     "name": "stdout",
     "output_type": "stream",
     "text": [
      "Enter ur number : 25\n",
      "Even Numbers : 13\n",
      "Odd Numbers  : 12\n"
     ]
    }
   ],
   "source": [
    "def num(a):\n",
    "    even=0\n",
    "    odd=0\n",
    "    for i in range(0,a):\n",
    "        if i%2==0:\n",
    "            even=even+1 \n",
    "        else:\n",
    "            odd=odd+1   \n",
    "    print(\"Even Numbers :\",even) \n",
    "    print('Odd Numbers  :',odd)\n",
    "num(int(input('Enter ur number : ')))        \n"
   ]
  },
  {
   "cell_type": "code",
   "execution_count": 79,
   "metadata": {},
   "outputs": [
    {
     "name": "stdout",
     "output_type": "stream",
     "text": [
      "enter te number6\n",
      "0\n",
      "1\n",
      "2\n",
      "3\n",
      "4\n",
      "5\n"
     ]
    }
   ],
   "source": [
    "def num(n):\n",
    "    for i in range(0,n):\n",
    "        if i==3 and i==6:\n",
    "            continue\n",
    "            \n",
    "        else:\n",
    "            print(i)\n",
    "            \n",
    "            \n",
    "num(int(input('enter te number')))        \n",
    "        \n",
    "    "
   ]
  },
  {
   "cell_type": "code",
   "execution_count": 80,
   "metadata": {},
   "outputs": [
    {
     "name": "stdout",
     "output_type": "stream",
     "text": [
      "Enter first number: 56\n",
      "Enter second number: 54\n",
      "The H.C.F. of 56 and 54 is 2\n"
     ]
    }
   ],
   "source": [
    "def hcf(x, y):  \n",
    "    if x > y:  \n",
    "        smaller = y  \n",
    "    else:  \n",
    "        smaller = x  \n",
    "    for i in range(1,smaller + 1):  \n",
    "        if((x % i == 0) and (y % i == 0)):  \n",
    "           hcf = i  \n",
    "    return hcf  \n",
    "  \n",
    "num1 = int(input(\"Enter first number: \"))  \n",
    "num2 = int(input(\"Enter second number: \"))  \n",
    "print(\"The H.C.F. of\", num1,\"and\", num2,\"is\", hcf(num1, num2))  "
   ]
  },
  {
   "cell_type": "code",
   "execution_count": null,
   "metadata": {},
   "outputs": [],
   "source": []
  }
 ],
 "metadata": {
  "kernelspec": {
   "display_name": "Python 3",
   "language": "python",
   "name": "python3"
  },
  "language_info": {
   "codemirror_mode": {
    "name": "ipython",
    "version": 3
   },
   "file_extension": ".py",
   "mimetype": "text/x-python",
   "name": "python",
   "nbconvert_exporter": "python",
   "pygments_lexer": "ipython3",
   "version": "3.7.5"
  }
 },
 "nbformat": 4,
 "nbformat_minor": 4
}
