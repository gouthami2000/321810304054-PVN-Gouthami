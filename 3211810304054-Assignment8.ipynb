{
 "cells": [
  {
   "cell_type": "code",
   "execution_count": 6,
   "metadata": {},
   "outputs": [
    {
     "name": "stdout",
     "output_type": "stream",
     "text": [
      "xyz abc\n"
     ]
    }
   ],
   "source": [
    "def new(a,b):\n",
    "    a,b=b,a\n",
    "    print(a,b)\n",
    "new(\"abc\",\"xyz\")    "
   ]
  },
  {
   "cell_type": "code",
   "execution_count": 9,
   "metadata": {},
   "outputs": [
    {
     "name": "stdout",
     "output_type": "stream",
     "text": [
      "newline example \n",
      "\n",
      "newline example\n"
     ]
    }
   ],
   "source": [
    "def new1(a):\n",
    "    print(a,\"\\n\")\n",
    "    print(a.rstrip())\n",
    "new1(\"newline example\")    "
   ]
  },
  {
   "cell_type": "code",
   "execution_count": 65,
   "metadata": {},
   "outputs": [
    {
     "name": "stdout",
     "output_type": "stream",
     "text": [
      "Enter your word :gouthami\n",
      "0  :  g\n",
      "1  :  o\n",
      "2  :  u\n",
      "3  :  t\n",
      "4  :  h\n",
      "5  :  a\n",
      "6  :  m\n",
      "7  :  i\n"
     ]
    }
   ],
   "source": [
    "n=input(\"Enter your word :\")\n",
    "index=0\n",
    "while index<len(n):\n",
    "    letter=x[index]\n",
    "    print(index,\" : \",letter)\n",
    "    index=index+1    \n",
    "    "
   ]
  },
  {
   "cell_type": "code",
   "execution_count": 68,
   "metadata": {},
   "outputs": [
    {
     "name": "stdout",
     "output_type": "stream",
     "text": [
      "nter your word\n"
     ]
    }
   ],
   "source": [
    "x=\"Enter your word\"\n",
    "print(x.replace(\"E\",\"\"))"
   ]
  },
  {
   "cell_type": "code",
   "execution_count": null,
   "metadata": {},
   "outputs": [],
   "source": []
  },
  {
   "cell_type": "code",
   "execution_count": null,
   "metadata": {},
   "outputs": [],
   "source": []
  }
 ],
 "metadata": {
  "kernelspec": {
   "display_name": "Python 3",
   "language": "python",
   "name": "python3"
  },
  "language_info": {
   "codemirror_mode": {
    "name": "ipython",
    "version": 3
   },
   "file_extension": ".py",
   "mimetype": "text/x-python",
   "name": "python",
   "nbconvert_exporter": "python",
   "pygments_lexer": "ipython3",
   "version": "3.7.5"
  }
 },
 "nbformat": 4,
 "nbformat_minor": 4
}
