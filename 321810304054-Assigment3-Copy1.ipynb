{
 "cells": [
  {
   "cell_type": "code",
   "execution_count": null,
   "metadata": {},
   "outputs": [],
   "source": [
    "a=int(input(\"Enter the numbers\"))\n",
    "b=int(input(\"Enter the numbers\"))\n",
    "if a==b:\n",
    "    print('Both numbers are equal')\n",
    "else:    \n",
    "    print(\"Both numbers are not equal\")"
   ]
  },
  {
   "cell_type": "code",
   "execution_count": null,
   "metadata": {},
   "outputs": [],
   "source": [
    "a=int(input(\"Enter the numbers\"))\n",
    "b=int(input(\"Enter the numbers\"))\n",
    "if a==b:\n",
    "    print('Both numbers are equal')\n",
    "else:    \n",
    "    print(\"Both numbers are not equal\")"
   ]
  },
  {
   "cell_type": "code",
   "execution_count": 17,
   "metadata": {},
   "outputs": [
    {
     "name": "stdout",
     "output_type": "stream",
     "text": [
      "Enter the a value3\n",
      "Enter the b value4\n",
      "Enter the c value3\n",
      "Any two numbers are equal\n"
     ]
    }
   ],
   "source": [
    "a=int(input(\"Enter the a value\"))\n",
    "b=int(input(\"Enter the b value\"))\n",
    "c=int(input(\"Enter the c value\"))\n",
    "if a==b and b==c:\n",
    "    print(\"A,B,C Are equal\")\n",
    "elif a==b or b==c or c==a:\n",
    "    print(\"Any two numbers are equal\")\n"
   ]
  },
  {
   "cell_type": "code",
   "execution_count": 18,
   "metadata": {},
   "outputs": [
    {
     "name": "stdout",
     "output_type": "stream",
     "text": [
      "Enter the a value3\n",
      "Enter the b value3\n",
      "Enter the c value3\n",
      "A,B,C Are equal\n"
     ]
    }
   ],
   "source": [
    "a=int(input(\"Enter the a value\"))\n",
    "b=int(input(\"Enter the b value\"))\n",
    "c=int(input(\"Enter the c value\"))\n",
    "if a==b and b==c:\n",
    "    print(\"A,B,C Are equal\")\n",
    "elif a==b or b==c or c==a:\n",
    "    print(\"Any two numbers are equal\")"
   ]
  },
  {
   "cell_type": "code",
   "execution_count": 32,
   "metadata": {},
   "outputs": [
    {
     "name": "stdout",
     "output_type": "stream",
     "text": [
      "Enter the value of x4\n",
      "Enter the value of y1\n",
      "sum of numbers: 5\n",
      "sum is equal to 5\n"
     ]
    }
   ],
   "source": [
    "x=int(input(\"Enter the value of x\"))\n",
    "y=int(input(\"Enter the value of y\"))\n",
    "sum=x+y\n",
    "print(\"sum of numbers:\",sum)\n",
    "if sum>5:\n",
    "    print(\" sum is greater than 5\")\n",
    "elif sum<5:\n",
    "    print(\" sum is less than 5\")\n",
    "else :\n",
    "     print(\"sum is equal to 5\")\n",
    "\n"
   ]
  },
  {
   "cell_type": "code",
   "execution_count": 33,
   "metadata": {},
   "outputs": [
    {
     "name": "stdout",
     "output_type": "stream",
     "text": [
      "Enter the value of x5\n",
      "Enter the value of y5\n",
      "sum of numbers: 10\n",
      " sum is greater than 5\n"
     ]
    }
   ],
   "source": [
    "x=int(input(\"Enter the value of x\"))\n",
    "y=int(input(\"Enter the value of y\"))\n",
    "sum=x+y\n",
    "print(\"sum of numbers:\",sum)\n",
    "if sum>5:\n",
    "    print(\" sum is greater than 5\")\n",
    "elif sum<5:\n",
    "    print(\" sum is less than 5\")\n",
    "else :\n",
    "     print(\"sum is equal to 5\")\n"
   ]
  },
  {
   "cell_type": "code",
   "execution_count": 34,
   "metadata": {},
   "outputs": [
    {
     "name": "stdout",
     "output_type": "stream",
     "text": [
      "Enter the value of x3\n",
      "Enter the value of y1\n",
      "sum of numbers: 4\n",
      " sum is less than 5\n"
     ]
    }
   ],
   "source": [
    "x=int(input(\"Enter the value of x\"))\n",
    "y=int(input(\"Enter the value of y\"))\n",
    "sum=x+y\n",
    "print(\"sum of numbers:\",sum)\n",
    "if sum>5:\n",
    "    print(\" sum is greater than 5\")\n",
    "elif sum<5:\n",
    "    print(\" sum is less than 5\")\n",
    "else :\n",
    "     print(\"sum is equal to 5\")\n"
   ]
  },
  {
   "cell_type": "code",
   "execution_count": 43,
   "metadata": {},
   "outputs": [
    {
     "name": "stdout",
     "output_type": "stream",
     "text": [
      "Enter the marks35\n",
      "PASS MARKS\n"
     ]
    }
   ],
   "source": [
    "maths=int(input(\"Enter the marks\"))\n",
    "if maths >= 35:\n",
    "    print(\"PASS MARKS\")\n",
    "else :\n",
    "    print(\"FAIL MARKS\")"
   ]
  },
  {
   "cell_type": "code",
   "execution_count": 52,
   "metadata": {},
   "outputs": [
    {
     "name": "stdout",
     "output_type": "stream",
     "text": [
      "Enter the value of a:10\n",
      "Enter the value of b:30\n",
      "Enter the value of c:4\n",
      "b is max\n"
     ]
    }
   ],
   "source": [
    "a=int(input(\"Enter the value of a:\"))\n",
    "b=int(input(\"Enter the value of b:\"))\n",
    "c=int(input(\"Enter the value of c:\"))\n",
    "if a > b and a > c:\n",
    "    print(\"a is max\")\n",
    "elif b > a and b > c:\n",
    "    print(\"b is max\")\n",
    "else:\n",
    "    print(\"c is max\")"
   ]
  },
  {
   "cell_type": "code",
   "execution_count": 45,
   "metadata": {},
   "outputs": [],
   "source": [
    "\n"
   ]
  },
  {
   "cell_type": "code",
   "execution_count": null,
   "metadata": {},
   "outputs": [],
   "source": []
  }
 ],
 "metadata": {
  "kernelspec": {
   "display_name": "Python 3",
   "language": "python",
   "name": "python3"
  },
  "language_info": {
   "codemirror_mode": {
    "name": "ipython",
    "version": 3
   },
   "file_extension": ".py",
   "mimetype": "text/x-python",
   "name": "python",
   "nbconvert_exporter": "python",
   "pygments_lexer": "ipython3",
   "version": "3.7.5"
  }
 },
 "nbformat": 4,
 "nbformat_minor": 4
}
