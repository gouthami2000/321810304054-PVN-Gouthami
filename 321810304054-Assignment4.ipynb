{
 "cells": [
  {
   "cell_type": "code",
   "execution_count": 23,
   "metadata": {},
   "outputs": [
    {
     "name": "stdout",
     "output_type": "stream",
     "text": [
      "B is the big value.\n"
     ]
    }
   ],
   "source": [
    "def max3num(a,b,c):\n",
    "    if a>b and a>c:\n",
    "        print(\" A is the Big Value.\")\n",
    "    elif b>a and b>c:\n",
    "        print(\"B is the big value.\")\n",
    "    else:\n",
    "        print(\"C is the big value\")\n",
    "        \n",
    "max3num(20,60,40)\n"
   ]
  },
  {
   "cell_type": "code",
   "execution_count": 29,
   "metadata": {},
   "outputs": [
    {
     "name": "stdout",
     "output_type": "stream",
     "text": [
      "Enter the value of x50\n",
      "Enter the value of y100\n",
      "Enter the value of z1000\n",
      "C is the big value\n"
     ]
    }
   ],
   "source": [
    "def max3num1(a,b,c):\n",
    "    if a>b and a>c:\n",
    "        print(\" A is the Big Value.\")\n",
    "    elif b>a and b>c:\n",
    "        print(\"B is the big value.\")\n",
    "    else:\n",
    "        print(\"C is the big value\")\n",
    "\n",
    "        \n",
    "x=int(input('Enter the value of x'))\n",
    "y=int(input('Enter the value of y'))\n",
    "z=int(input('Enter the value of z'))\n",
    "max3num1(x,y,z)\n"
   ]
  },
  {
   "cell_type": "code",
   "execution_count": 30,
   "metadata": {},
   "outputs": [
    {
     "name": "stdout",
     "output_type": "stream",
     "text": [
      "Enter the value of x20\n",
      "Enter the value of y3\n",
      "Enter the value of z2\n",
      " A is the Big Value.\n",
      "B is the big value.\n"
     ]
    }
   ],
   "source": [
    "def max3num1(a,b,c):\n",
    "    if a>b and a>c:\n",
    "        print(\" A is the Big Value.\")\n",
    "    elif b>a and b>c:\n",
    "        print(\"B is the big value.\")\n",
    "    else:\n",
    "        print(\"C is the big value\")\n",
    "\n",
    "        \n",
    "x=int(input('Enter the value of x'))\n",
    "y=int(input('Enter the value of y'))\n",
    "z=int(input('Enter the value of z'))\n",
    "max3num1(x,y,z)\n",
    "max3num1(b=40,a=30,c=20)\n"
   ]
  },
  {
   "cell_type": "code",
   "execution_count": null,
   "metadata": {},
   "outputs": [],
   "source": []
  }
 ],
 "metadata": {
  "kernelspec": {
   "display_name": "Python 3",
   "language": "python",
   "name": "python3"
  },
  "language_info": {
   "codemirror_mode": {
    "name": "ipython",
    "version": 3
   },
   "file_extension": ".py",
   "mimetype": "text/x-python",
   "name": "python",
   "nbconvert_exporter": "python",
   "pygments_lexer": "ipython3",
   "version": "3.7.5"
  }
 },
 "nbformat": 4,
 "nbformat_minor": 4
}
