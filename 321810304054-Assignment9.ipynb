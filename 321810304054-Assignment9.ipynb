{
 "cells": [
  {
   "cell_type": "code",
   "execution_count": 25,
   "metadata": {},
   "outputs": [
    {
     "name": "stdout",
     "output_type": "stream",
     "text": [
      "Enter any name:\n",
      "Gouthami\n",
      "Enter any name:\n",
      "Giri\n",
      "Enter any name:\n",
      "Sudha\n",
      "Enter any name:\n",
      "Karthikeya\n",
      "Enter any name:\n",
      "Siva\n"
     ]
    }
   ],
   "source": [
    "f=open(\"emp.txt\",\"w\")\n",
    "for i in range(5):\n",
    "    name=str(input('Enter any name:\\n'))\n",
    "    f.write(name+\"\\n\")\n",
    "f.close()\n"
   ]
  },
  {
   "cell_type": "code",
   "execution_count": 2,
   "metadata": {},
   "outputs": [
    {
     "data": {
      "text/plain": [
       "'C:\\\\Users\\\\Apps\\\\gouthami\\\\jupiterdemo'"
      ]
     },
     "execution_count": 2,
     "metadata": {},
     "output_type": "execute_result"
    }
   ],
   "source": [
    "pwd\n"
   ]
  },
  {
   "cell_type": "code",
   "execution_count": 26,
   "metadata": {},
   "outputs": [
    {
     "name": "stdout",
     "output_type": "stream",
     "text": [
      "Gouthami\n",
      "\n",
      "Giri\n",
      "\n",
      "Sudha\n",
      "\n",
      "Karthikeya\n",
      "\n",
      "Siva\n",
      "\n"
     ]
    }
   ],
   "source": [
    "#Program to read an entrie txt file\n",
    "f=open(\"emp.txt\",\"r\")\n",
    "f1=f.readlines()\n",
    "for i in f1:\n",
    "        print(i)\n",
    "f.close()        "
   ]
  },
  {
   "cell_type": "code",
   "execution_count": 27,
   "metadata": {},
   "outputs": [
    {
     "name": "stdout",
     "output_type": "stream",
     "text": [
      "Enter any name:\n",
      "Varsha\n",
      "Enter any name:\n",
      "Teja\n",
      "Enter any name:\n",
      "Sudeepa\n",
      "Enter any name:\n",
      "Lavanya\n",
      "Enter any name:\n",
      "Thanuja\n"
     ]
    }
   ],
   "source": [
    "#program to append txt to a file and display the txt\n",
    "f=open(\"emp.txt\",\"a\")\n",
    "for i in range(5):\n",
    "    name=str(input('Enter any name:\\n'))\n",
    "    f.write(name+\"\\n\")\n",
    "f.close()"
   ]
  },
  {
   "cell_type": "code",
   "execution_count": 33,
   "metadata": {},
   "outputs": [
    {
     "name": "stdout",
     "output_type": "stream",
     "text": [
      "Gouthami\n",
      "\n",
      "Giri\n",
      "\n",
      "Sudha\n",
      "\n",
      "Karthikeya\n",
      "\n",
      "Siva\n",
      "\n",
      "Varsha\n",
      "\n",
      "Teja\n",
      "\n",
      "Sudeepa\n",
      "\n",
      "Lavanya\n",
      "\n",
      "Thanuja\n",
      "\n"
     ]
    }
   ],
   "source": [
    "#to read a file line by line storeit into a variable\n",
    "f=open(\"emp.txt\",\"r\")\n",
    "f1=f.readlines()\n",
    "s=\"  \"\n",
    "for i in f1:\n",
    "    s=i\n",
    "    print(s)\n",
    "f.close()        "
   ]
  },
  {
   "cell_type": "code",
   "execution_count": 41,
   "metadata": {},
   "outputs": [
    {
     "name": "stdout",
     "output_type": "stream",
     "text": [
      "Gouthami\n",
      "\n",
      "o\n",
      "Gout\n",
      "Giri\n",
      "\n",
      "i\n",
      "Giri\n",
      "Sudha\n",
      "\n",
      "u\n",
      "Sudh\n",
      "Karthikeya\n",
      "\n",
      "a\n",
      "Kart\n",
      "Siva\n",
      "\n",
      "i\n",
      "Siva\n",
      "Varsha\n",
      "\n",
      "a\n",
      "Vars\n",
      "Teja\n",
      "\n",
      "e\n",
      "Teja\n",
      "Sudeepa\n",
      "\n",
      "u\n",
      "Sude\n",
      "Lavanya\n",
      "\n",
      "a\n",
      "Lava\n",
      "Thanuja\n",
      "\n",
      "h\n",
      "Than\n"
     ]
    }
   ],
   "source": [
    "#progrm to read  file line by line and store it into a list\n",
    "f=open(\"emp.txt\",\"r\")\n",
    "thelist=[\"\"]\n",
    "f2=f.readlines()\n",
    "for i in f2:\n",
    "    thelist=i\n",
    "    print(thelist)\n",
    "    print(thelist[1])\n",
    "    print(thelist[0:4])\n",
    "f.close()    \n"
   ]
  },
  {
   "cell_type": "code",
   "execution_count": 39,
   "metadata": {},
   "outputs": [
    {
     "name": "stdout",
     "output_type": "stream",
     "text": [
      "Varsha\n",
      "Teja\n",
      "Sudeepa\n",
      "Lavanya\n",
      "Thanuja\n"
     ]
    }
   ],
   "source": [
    "#programto read n lines from last\n",
    "with open(\"emp.txt\") as file:\n",
    "    \n",
    "    for line in (file.readlines() [-5:]):\n",
    "    \n",
    "            print(line, end ='') "
   ]
  },
  {
   "cell_type": "code",
   "execution_count": 44,
   "metadata": {},
   "outputs": [
    {
     "name": "stdout",
     "output_type": "stream",
     "text": [
      "Karthikeya\n",
      "Siva\n",
      "Varsha\n",
      "Teja\n",
      "Sudeepa\n",
      "Lavanya\n",
      "Thanuja\n"
     ]
    }
   ],
   "source": [
    "#programto read n lines from first\n",
    "with open(\"emp.txt\") as file:\n",
    "    \n",
    "    for line in (file.readlines() [3:]):\n",
    "    \n",
    "            print(line, end ='') "
   ]
  },
  {
   "cell_type": "code",
   "execution_count": null,
   "metadata": {},
   "outputs": [],
   "source": []
  }
 ],
 "metadata": {
  "kernelspec": {
   "display_name": "Python 3",
   "language": "python",
   "name": "python3"
  },
  "language_info": {
   "codemirror_mode": {
    "name": "ipython",
    "version": 3
   },
   "file_extension": ".py",
   "mimetype": "text/x-python",
   "name": "python",
   "nbconvert_exporter": "python",
   "pygments_lexer": "ipython3",
   "version": "3.7.5"
  }
 },
 "nbformat": 4,
 "nbformat_minor": 4
}
